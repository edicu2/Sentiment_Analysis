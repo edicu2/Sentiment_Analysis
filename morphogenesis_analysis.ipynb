{
 "cells": [
  {
   "cell_type": "code",
   "execution_count": 6,
   "metadata": {
    "scrolled": true
   },
   "outputs": [
    {
     "name": "stdout",
     "output_type": "stream",
     "text": [
      "['오늘/NNG', '은/JX', '날씨/NNG', '가/JKS', '좋/VA', '다/EF', './SF', '하늘/NNG', '을/JKO', '보/VV', '고/EC', '있/VV', '으면/EC', '내/NP', '기분/NNG', '마저/JX', '좋/VA', '아/EC', '지/VX', '는/ETM', '것/NNB', '같/VA', '다/EF', './SF']\n"
     ]
    }
   ],
   "source": [
    "from konlpy.tag import Komoran   \n",
    "import csv\n",
    "\n",
    "texts = []   # list for the morpheme   # 형태소를 담을 list 생성 \n",
    "\n",
    "komoran = Komoran() # create object   # 객체 생성 \n",
    "for row in komoran.pos(u'오늘은 날씨가 좋다. 하늘을 보고 있으면 내 기분마저 좋아지는 것 같다.'): # 형태소로 나눌 구문들을 입력\n",
    "    texts.append(row[0] +'/'+ row[1])  # list에 append하여 형태소를 넣는다.\n",
    "print(texts)\n",
    "\n"
   ]
  },
  {
   "cell_type": "code",
   "execution_count": null,
   "metadata": {},
   "outputs": [],
   "source": []
  }
 ],
 "metadata": {
  "kernelspec": {
   "display_name": "Python 3",
   "language": "python",
   "name": "python3"
  },
  "language_info": {
   "codemirror_mode": {
    "name": "ipython",
    "version": 3
   },
   "file_extension": ".py",
   "mimetype": "text/x-python",
   "name": "python",
   "nbconvert_exporter": "python",
   "pygments_lexer": "ipython3",
   "version": "3.7.1"
  }
 },
 "nbformat": 4,
 "nbformat_minor": 2
}
