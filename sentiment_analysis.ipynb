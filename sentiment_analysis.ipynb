{
 "cells": [
  {
   "cell_type": "code",
   "execution_count": 4,
   "metadata": {
    "scrolled": true
   },
   "outputs": [
    {
     "name": "stdout",
     "output_type": "stream",
     "text": [
      "오늘/NNG;하루/NNG;기분/NNG;이/JKS;좋/VA;다/EF;./SF;\n",
      "-1\n",
      "기분/NNG : ['0.5', '0.5', '0']\n",
      "-1\n",
      "기분/NNG;이/JKS : ['0.5', '0.5', '0']\n",
      "-1\n",
      "다/EF : ['0.435483871', '0.177419355', '0.225806452']\n",
      "-1\n",
      "이/JKS : ['0.440528634', '0.088105727', '0.431718062']\n",
      "-1\n",
      "이/JKS;좋/VA : ['0', '0', '1']\n",
      "-1\n",
      "좋/VA : ['0.04', '0', '0.92']\n",
      "-1\n",
      "하루/NNG : ['0', '0.5', '0']\n",
      "4\n",
      "pos : 0.644381\n",
      "5\n",
      "neut : 0.353105\n",
      "5\n",
      "neg : 0.383203\n"
     ]
    }
   ],
   "source": [
    "from konlpy.tag import Komoran \n",
    "import csv\n",
    "\n",
    "\n",
    "texts = []\n",
    "text_sum = \"\"\n",
    "em_dict = {}   # 한국어 감정사전.csv파일을 diction 형식으로 변환하기 위해서 생성\n",
    "em_sum = {'pos':[0,0] , 'neut':[0,0] , 'neg':[0,0] }    #  positive[0] 노출빈도 ,positive[1] 점수합산 \n",
    "\n",
    "\n",
    "komoran = Komoran() \n",
    "for row in komoran.pos(u'오늘 하루 기분이 좋다.'):\n",
    "    texts.append(row[0] +'/'+ row[1])\n",
    "    text_sum += texts.pop()+\";\"\n",
    "print(text_sum)\n",
    "\n",
    "f1 = open('lexicon_ko/polarity.csv', 'r', encoding='utf-8')  # csv파일 open \n",
    "reader = csv.reader(f1) \n",
    "next(f1)  # 첫번째 row는 pass\n",
    "for row in reader : # csv파일의 감정부분을 em_dict에 넣는다.\n",
    "    em_dict[row[0]] = [row[3],row[4],row[6]] \n",
    "\n",
    "\n",
    "for key, value in em_dict.items() :\n",
    "    if text_sum.find(key) != -1 :\n",
    "    #if text_sum.find(key) != -1  and  key[-2:].find('VA') != -1 :\n",
    "    # 형태소의 'VA'을 주요 감정으로 할 것인지 선택 \n",
    "        print(key.find('VV'))\n",
    "        print(\"%s : %s\" % (key, value ))\n",
    "        if value[0] not in '0':    # 해당 단어가 감정이 없는지 \n",
    "            em_sum['neg'][0] += int(1) \n",
    "            em_sum['neg'][1] += float(value[0])\n",
    "        if value[1] not in '0': \n",
    "            em_sum['neut'][0] += int(1)\n",
    "            em_sum['neut'][1] += float(value[1])\n",
    "        if value[2] not in '0':\n",
    "            em_sum['pos'][0] += int(1) \n",
    "            em_sum['pos'][1] += float(value[2])\n",
    "\n",
    "# 출력 부분 \n",
    "print( em_sum['pos'][0])\n",
    "print(\"%s : %f\" % ('pos', em_sum['pos'][1]/ em_sum['pos'][0]))\n",
    "print( em_sum['neut'][0])\n",
    "print(\"%s : %f\" % ('neut', em_sum['neut'][1]/ em_sum['neut'][0]))\n",
    "print( em_sum['neg'][0])\n",
    "print(\"%s : %f\" % ('neg', em_sum['neg'][1]/ em_sum['neg'][0]))\n",
    "\n",
    "\n"
   ]
  },
  {
   "cell_type": "code",
   "execution_count": null,
   "metadata": {},
   "outputs": [],
   "source": []
  },
  {
   "cell_type": "code",
   "execution_count": null,
   "metadata": {},
   "outputs": [],
   "source": []
  },
  {
   "cell_type": "code",
   "execution_count": null,
   "metadata": {},
   "outputs": [],
   "source": []
  }
 ],
 "metadata": {
  "kernelspec": {
   "display_name": "Python 3",
   "language": "python",
   "name": "python3"
  },
  "language_info": {
   "codemirror_mode": {
    "name": "ipython",
    "version": 3
   },
   "file_extension": ".py",
   "mimetype": "text/x-python",
   "name": "python",
   "nbconvert_exporter": "python",
   "pygments_lexer": "ipython3",
   "version": "3.7.1"
  }
 },
 "nbformat": 4,
 "nbformat_minor": 2
}
